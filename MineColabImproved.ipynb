{
  "cells": [
    {
      "cell_type": "markdown",
      "metadata": {
        "id": "view-in-github",
        "colab_type": "text"
      },
      "source": [
        "<a href=\"https://colab.research.google.com/github/N-aksif-N/MineColab/blob/main/MineColabImproved.ipynb\" target=\"_parent\"><img src=\"https://colab.research.google.com/assets/colab-badge.svg\" alt=\"Open In Colab\"/></a>"
      ]
    },
    {
      "cell_type": "code",
      "source": [
        "#@markdown\n",
        "from IPython.core.display import display, HTML\n",
        "display(HTML('<p><img style=\"display: block; margin-left: auto; margin-right: auto;\" src=\"https://github.com/N-aksif-N/MineColab/blob/main/minecolab.png?raw=true\" alt=\"\" width=\"170\" height=\"136\" /></p><h1 style=\"text-align: center;\"><span style=\"color: #00ffff;\">MineColab</span></h1><hr /><h2 style=\"text-align: center;\"><span style=\"color: #99ccff;\">Forked By N-Aksif  </span></h2><h2 style=\"text-align: center;\"><span style=\"color: #FFFFFF;\">Run Minecraft Server On Google Colab</span></h2></span></h2><a href=\"https://github.com/N-aksif-N/MineColab/tree/main\" target=\"_parent\"><img align=\"right\" src=\"\" alt=\"Open In Github\"></a>'))"
      ],
      "metadata": {
        "colab": {
          "base_uri": "https://localhost:8080/",
          "height": 330
        },
        "id": "El-B9eNVM0c0",
        "outputId": "75b6bd84-e154-4d5a-a59f-f398a0188815"
      },
      "execution_count": 9,
      "outputs": [
        {
          "output_type": "display_data",
          "data": {
            "text/plain": [
              "<IPython.core.display.HTML object>"
            ],
            "text/html": [
              "<p><img style=\"display: block; margin-left: auto; margin-right: auto;\" src=\"https://github.com/N-aksif-N/MineColab/blob/main/minecolab.png?raw=true\" alt=\"\" width=\"170\" height=\"136\" /></p><h1 style=\"text-align: center;\"><span style=\"color: #00ffff;\">MineColab</span></h1><hr /><h2 style=\"text-align: center;\"><span style=\"color: #99ccff;\">Forked By N-Aksif  </span></h2><h2 style=\"text-align: center;\"><span style=\"color: #FFFFFF;\">Run Minecraft Server On Google Colab</span></h2></span></h2><a href=\"https://github.com/N-aksif-N/MineColab/tree/main\" target=\"_parent\"><img align=\"right\" src=\"\" alt=\"Open In Github\"></a>"
            ]
          },
          "metadata": {}
        }
      ]
    },
    {
      "cell_type": "markdown",
      "metadata": {
        "id": "rNTaAXZXOY7M"
      },
      "source": [
        "---"
      ]
    },
    {
      "cell_type": "code",
      "execution_count": null,
      "metadata": {
        "colab": {
          "base_uri": "https://localhost:8080/",
          "height": 85
        },
        "id": "IiPfl5Y1MOmL",
        "notebookRunGroups": {
          "groupValue": ""
        },
        "outputId": "dd565e14-afd3-404d-fa8f-99dc3e67b444"
      },
      "outputs": [
        {
          "output_type": "stream",
          "name": "stdout",
          "text": [
            "Mounted at /content/drive\n",
            "apt cache successfully updated\n",
            "apt cache successfully upgraded\n"
          ]
        },
        {
          "output_type": "display_data",
          "data": {
            "text/plain": [
              "\u001b[1;32m[\u001b[0m\u001b[1;32m LOG \u001b[0m\u001b[1;32m]\u001b[0m Completed\n"
            ],
            "text/html": [
              "<pre style=\"white-space:pre;overflow-x:auto;line-height:normal;font-family:Menlo,'DejaVu Sans Mono',consolas,'Courier New',monospace\"><span style=\"color: #008000; text-decoration-color: #008000; font-weight: bold\">[ LOG ]</span> Completed\n",
              "</pre>\n"
            ]
          },
          "metadata": {}
        }
      ],
      "source": [
        "# @title **[❗]  Set up** {display-mode: \"form\"}\n",
        "\n",
        "import subprocess\n",
        "import re\n",
        "import glob\n",
        "import requests\n",
        "import time\n",
        "from json import load, dump\n",
        "import os\n",
        "try: from jproperties import Properties\n",
        "except:\n",
        "  !pip install -q jproperties\n",
        "  from jproperties import Properties\n",
        "try: from rich import print\n",
        "except:\n",
        "  !pip install -q rich\n",
        "  from rich import print\n",
        "if os.path.exists('/content/drive') == False:\n",
        "  from google.colab import drive, runtime\n",
        "  drive.mount('/content/drive')\n",
        "else: from google.colab import runtime\n",
        "try: from pyngrok import conf, ngrok\n",
        "except:\n",
        "  !pip -q install pyngrok\n",
        "  from pyngrok import conf, ngrok\n",
        "\n",
        "#------------------------------------------------------------------------------------------------------------------------------------#\n",
        "\n",
        "!command -v filebrowser &>/dev/null || curl -fsSL https://raw.githubusercontent.com/filebrowser/get/master/get.sh | bash &>/dev/null\n",
        "!sudo apt update &>/dev/null &&echo 'apt cache successfully updated' || echo \"apt cache update failed, you might receive stale packages\"\n",
        "!sudo apt upgrade &>/dev/null &&echo 'apt cache successfully upgraded' || echo \"apt cache upgrade failed, you might receive stale packages\"\n",
        "\n",
        "#------------------------------------------------------------------------------------------------------------------------------------#\n",
        "def SETUP():\n",
        "  if os.path.exists('/content/drive/MyDrive/minecraft') == False:\n",
        "    subprocess.run(['mkdir', '-p', '/content/drive/MyDrive/minecraft'])\n",
        "\n",
        "  if os.path.exists(SERVERCONFIG) == False:\n",
        "    serverconfig = {\"server_list\": [], \"server_in_use\": \"\"}\n",
        "    with open(SERVERCONFIG, 'w') as f:\n",
        "      dump(serverconfig, f)\n",
        "def LOG(text):\n",
        "  if '\\n' in str(text):\n",
        "    print(\"\\n[bold green][ LOG ][/bold green] \" + str(text).replace('\\n', ''))\n",
        "  else:\n",
        "    print(\"[bold green][ LOG ][/bold green] \" + str(text))\n",
        "def EROR(text):\n",
        "  print(\"[bold red][ EROR ][/bold red] \" + str(text))\n",
        "def EXIT():\n",
        "  runtime.unassign()\n",
        "\n",
        "def COLABCONFIG(server_name: str):\n",
        "  return f\"/content/drive/My Drive/minecraft/{server_name}/colabconfig.txt\"\n",
        "def COLABCONFIG_LOAD(server_name):\n",
        "  if os.path.exists(COLABCONFIG(server_name)):\n",
        "    return load(open(COLABCONFIG(server_name)))\n",
        "  else:\n",
        "    colabconfig = {\"server_type\": \"generic\"} # using default, if config doesn't exist.\n",
        "    dump(colabconfig, open(\"colabconfig.json\",'w'))\n",
        "    LOG('Please checking whether you deleted your colabconfig file or not.')\n",
        "    EXIT()\n",
        "def COLABCONFIG_CHECK(server_name, colabconfig):\n",
        "  colabconfig['check'] = True\n",
        "  dump(colabconfig, open(COLABCONFIG(server_name), 'w'))\n",
        "\n",
        "SERVERCONFIG = '/content/drive/My Drive/minecraft/server_list.txt'\n",
        "def SERVER_IN_USE():\n",
        "  serverconfig = load(open(SERVERCONFIG))\n",
        "  return serverconfig['server_in_use']\n",
        "\n",
        "def DOWNLOAD_FILE(url, path, file_name):\n",
        "  r = requests.get(url)\n",
        "  if r.status_code == 200:\n",
        "    if file_name != None: LOG('\\nDownloading ' + file_name)\n",
        "    with open(path, 'wb') as f:\n",
        "          f.write(r.content)\n",
        "  else:\n",
        "    LOG('Error '+ str(r.status_code) + '! Most likely you entered an unsupported version. Try running the code again if you think that shouldn\\'t have happened.')\n",
        "\n",
        "def EULA(server_name: str):\n",
        "  LOG('\\nAccepting Eula.')\n",
        "  with open(f'/content/drive/My Drive/minecraft/{server_name}/eula.txt', 'w') as f:\n",
        "    f.seek(0)\n",
        "    f.write(\"eula=true\")\n",
        "#--------------------------------------------------------- INSTALL JAVA --------------------------------------------------------------#\n",
        "def JAVA_VER():\n",
        "  java_ver = !java -version 2>&1 | awk -F[\\\"\\.] -v OFS=. 'NR==1{print $2}'\n",
        "  return java_ver\n",
        "def INSTALL_JAVA(version: str):\n",
        "  # !wget -qO - https://adoptopenjdk.jfrog.io/adoptopenjdk/api/gpg/key/public | sudo apt-key add -\n",
        "  # !sudo add-apt-repository --yes https://adoptopenjdk.jfrog.io/adoptopenjdk/deb/ &>/dev/null || echo \"Failed to add repo. Still can be ignored if openjdk gets installed.\"\n",
        "  if version > \"1.17\":\n",
        "    !sudo apt-get install openjdk-17-jre-headless &>/dev/null &&echo \"Openjdk17 successfully installed\" || echo \"Failed to install OpenJdk17.\"\n",
        "    os.environ[\"JAVA_HOME\"] = \"/usr/lib/jvm/java-17-openjdk-amd64\"\n",
        "    !update-alternatives --set java /usr/lib/jvm/java-17-openjdk-amd64/bin/java\n",
        "  else:\n",
        "    !sudo apt-get install openjdk-8-jre-headless &>/dev/null &&echo \"Openjdk8 successfully installed\" || echo \"Failed to install OpenJdk8.\"\n",
        "    os.environ[\"JAVA_HOME\"] = \"/usr/lib/jvm/java-8-openjdk-amd64\"\n",
        "    !update-alternatives --set java /usr/lib/jvm/java-8-openjdk-amd64/jre/bin/java\n",
        "def JAVA_CHECK():\n",
        "  if JAVA_VER()[0] == \"1\" : LOG(\"Openjdk8 is working correctly, you are good to go.\")\n",
        "  elif JAVA_VER()[0] == '17': LOG(\"Openjdk17 is working correctly, you are good to go.\")\n",
        "  else:\n",
        "    LOG(\"Openjdk doesn't seem to be installed or isn't working, falling back to java\" + str(java_ver[0]))\n",
        "    LOG('You might experience reduced performance. Minecraft 1.17 and above might fail to launch.')\n",
        "#-------------------------------------------------------- Java arguments ------------------------------------------------------------------#\n",
        "def ARGS(type_):\n",
        "  AIKAR_FLAGS = '-XX:+UseG1GC -XX:+ParallelRefProcEnabled -XX:MaxGCPauseMillis=200 -XX:+UnlockExperimentalVMOptions -XX:+DisableExplicitGC -XX:+AlwaysPreTouch -XX:G1NewSizePercent=30 -XX:G1MaxNewSizePercent=40 -XX:G1HeapRegionSize=8M -XX:G1ReservePercent=20 -XX:G1HeapWastePercent=5 -XX:G1MixedGCCountTarget=4 -XX:InitiatingHeapOccupancyPercent=15 -XX:G1MixedGCLiveThresholdPercent=90 -XX:G1RSetUpdatingPauseTimePercent=5 -XX:SurvivorRatio=32 -XX:+PerfDisableSharedMem -XX:MaxTenuringThreshold=1 -Dusing.aikars.flags=https://mcflags.emc.gs -Daikars.new.flags=true'\n",
        "  GC_LOG = '-d64 -Xloggc:gc.log -verbose:gc -XX:+PrintGCDetails -XX:+PrintGCDateStamps -XX:+PrintGCTimeStamps -XX:+UseGCLogFileRotation -XX:NumberOfGCLogFiles=5 -XX:GCLogFileSize=1M'\n",
        "  GC_LOG2 = '-d64 -Xlog:gc*:logs/gc.log:time,uptime:filecount=5,filesize=1M'\n",
        "  FORGE_FLAGS = '-XX:+UseG1GC -Dsun.rmi.dgc.server.gcInterval=2147483646 -XX:+UnlockExperimentalVMOptions -XX:G1NewSizePercent=20 -XX:G1ReservePercent=20 -XX:MaxGCPauseMillis=50 -XX:G1HeapRegionSize=32M'\n",
        "  args = \"-Xms10G -Xmx10G\"\n",
        "  if type_ == \"paper\" or type_ == 'purpur':\n",
        "    args += AIKAR_FLAGS # Improving paper cilent. For more detailed: https://docs.papermc.io/paper/aikars-flags\n",
        "  elif type_ == 'forge':\n",
        "    args += FORGE_FLAGS\n",
        "  if JAVA_VER()[0] == \"1\" : args += GC_LOG\n",
        "  elif JAVA_VER()[0] >= '11': args += GC_LOG2\n",
        "  return args\n",
        "#------------------------------------------------------- INSTALL SERVER.JAR -------------------------------------------------------------#\n",
        "SERVERSJAR_URL = {\n",
        "    'vanilla'   : '/vanilla/vanilla',    'snapshot'  : '/vanilla/snapshot',\n",
        "    'paper'     : \"/servers/paper/\",     \"purpur\"    : \"/servers/purpur/\",\n",
        "    \"fabric\"    : \"/modded/fabric\",      \"forge\"     : \"/modded/forge\",\n",
        "    \"bungeecord\": \"/proxies/bungeecord\", \"waterfall\" : \"/proxies/waterfall/\", \"velocity\"  : \"/proxies/velocity\"\n",
        "    }\n",
        "def JAR_LIST_RUN(colabconfig: dict):\n",
        "  return {'vanilla':'server.jar','snapshot': 'server.jar',\n",
        "          'purpur' : 'server.jar', 'paper': 'server.jar',\n",
        "          'fabric': 'fabric-launcher.jar', 'forge': 'minecraft_server.' + colabconfig['server_version'] + '.jar',\n",
        "          'bungeecord' : 'server.jar', 'waterfall' : 'server.jar', 'velocity' : 'server.jar', 'generic': 'server.jar'}\n",
        "JAR_LIST_INSTALL = {'vanilla':'server.jar', 'snapshot': 'server.jar',\n",
        "                      'purpur' : 'server.jar', 'paper': 'server.jar',\n",
        "              'fabric': 'fabric-launcher.jar', 'forge': 'forge-installer.jar',\n",
        "              'bungeecord' : 'server.jar', 'waterfall' : 'server.jar', 'velocity' : 'server.jar'}\n",
        "def SERVERSJAR(all = False, jar = False, server_type= '', version = None):\n",
        "  if all:\n",
        "    return 'https://serverjars.com/api/fetchAll' + SERVERSJAR_URL[server_type]\n",
        "  elif jar == True and version != None:\n",
        "    return 'https://serverjars.com/api/fetchJar' + SERVERSJAR_URL[server_type] + f'/{version}'\n",
        "  else:\n",
        "    EROR('Type error: Wrong given arguments')\n",
        "def GET_VERSION(server_type):\n",
        "  LOG('\\n Aivailable version:')\n",
        "  a = requests.get(SERVERSJAR(all = True, server_type= server_type)).json()\n",
        "  server_version = [hit['version'] for hit in a['response']]\n",
        "  LOG(server_version)\n",
        "  version = input('Server version: ')\n",
        "  return version\n",
        "def GET_SERVERJAR(server_name, type_, version, jarname = 'server.jar'):\n",
        "  DOWNLOAD_FILE(url= SERVERSJAR(jar = True, server_type = type_, version= version),\n",
        "                path = f\"/content/drive/My Drive/minecraft/{server_name}/\" + jarname,\n",
        "                file_name= jarname)\n",
        "  if type_ == 'forge':\n",
        "    INSTALL_JAVA(version)\n",
        "    JAVA_CHECK()\n",
        "    !java -jar forge-installer.jar --installServer\n",
        "#------------------------------------------------------ TUNNEL - COMMAND -------------------- ---------------------------------------#\n",
        "def CONNECT_NGROK(server_name, port, type_ , colabconfig_proxy):\n",
        "  token = colabconfig_proxy['authtoken']\n",
        "  !ngrok authtoken $token\n",
        "  region = colabconfig_proxy['region']\n",
        "  conf.get_default().region = region\n",
        "  if type_ == 'tcp':\n",
        "    url = ngrok.connect(port, 'tcp')\n",
        "    return 'Your server address is ' + ((str(url).split('\"')[1::2])[0]).replace('tcp://', '')\n",
        "  else:\n",
        "    url = ngrok.connect (port)\n",
        "    return url\n",
        "def EXIT_NGROK():\n",
        "  tunnels = ngrok.get_tunnels()\n",
        "  for tunnel in tunnels:\n",
        "    ngrok.disconnect(tunnel.public_url)\n",
        "  ngrok.kill()\n",
        "  LOG(\"Ngrok closed.\")\n",
        "\n",
        "def PLAYIT_INSTALL():\n",
        "  ! curl -SsL https://playit-cloud.github.io/ppa/key.gpg | gpg --dearmor | sudo tee /etc/apt/trusted.gpg.d/playit.gpg >/dev/null\n",
        "  ! echo \"deb [signed-by=/etc/apt/trusted.gpg.d/playit.gpg] https://playit-cloud.github.io/ppa/data ./\" | sudo tee /etc/apt/sources.list.d/playit-cloud.list\n",
        "  ! sudo apt -qq update && sudo apt install playit &>/dev/null && echo \"Playit.gg installed\" || echo \"Failed to install playit\"\n",
        "def EXECUTE_ARGO():\n",
        "  !wget https://github.com/cloudflare/cloudflared/releases/latest/download/cloudflared-linux-amd64\n",
        "  !chmod +x cloudflared-linux-amd64\n",
        "def RUNCOMMAND(server_name, colabconfig, tunnel_service= '', hide = False):\n",
        "  args = ARGS(colabconfig[\"server_type\"])\n",
        "  jar_name = JAR_LIST_RUN(colabconfig)[colabconfig[\"server_type\"]]\n",
        "  if hide == True:\n",
        "      !java -server $server_flags -jar $jar_name nogui &> /dev/null &\n",
        "  else:\n",
        "    if tunnel_service == '':\n",
        "      tunnel_service = colabconfig['proxy']['turnel_service']\n",
        "    if tunnel_service == \"ngrok\":\n",
        "      LOG(CONNECT_NGROK(server_name, type_= 'tcp', port= 25565, colabconfig_proxy = colabconfig['proxy']))\n",
        "      LOG('Starting server...')\n",
        "      !java -server $args -jar $jar_name nogui\n",
        "    elif tunnel_service == \"playit\":\n",
        "      PLAYIT_INSTALL()\n",
        "      LOG('Starting server...')\n",
        "      ! playit & java -server $args -jar $jar_name nogui\n",
        "    else:\n",
        "      EXECUTE_ARGO()\n",
        "      LOG('Starting server...')\n",
        "      !./cloudflared-linux-amd64 tunnel --url tcp://127.0.0.1:25565 & java -server $args -jar $j\n",
        "\n",
        "#----------------------------------------------------------- MAIN -------------------------------------------------------------#\n",
        "\n",
        "def Install_server(proxy , server_name, type_, version = ''):\n",
        "  if os.path.exists(f'/content/drive/MyDrive/minecraft/{server_name}') == False:\n",
        "    ! mkdir -p \"/content/drive/MyDrive/minecraft/{server_name}\"\n",
        "    if version == '': version = GET_VERSION(server_type)\n",
        "    elif version == 'vanilla - latest_version':\n",
        "      vanilla = requests.get(SERVERSJAR_ALL['vanilla']).json()\n",
        "      version = str(vanilla['response'][0]['version'])\n",
        "    serverconfig = load(open(SERVERCONFIG))\n",
        "    serverconfig['server_list'] += [server_name]\n",
        "    serverconfig['server_in_use'] = server_name\n",
        "    dump(serverconfig, open(SERVERCONFIG, 'w'))\n",
        "    LOG(\"\\n[Note: This installation takes approximately 10-15 minutes, wait for 'Completed' after executing the first step.]\")\n",
        "    GET_SERVERJAR(server_name, 'vanilla', version)\n",
        "    dump({\"server_type\": type_, \"server_version\": version, \"proxy\": proxy}, open(COLABCONFIG(server_name),'w'))\n",
        "    RUNCOMMAND(server_name, colabconfig, tunnel_service = proxy, hide = True)\n",
        "    !java -server $memory_allocation $server_flags -jar $jar_name nogui &>/dev/null &\n",
        "    LOG('\\nCompleted!')\n",
        "  else:\n",
        "    EROR(' You have already installed this server file')\n",
        "    EXIT()\n",
        "\n",
        "def Delete_server(server_name):\n",
        "  if server_name == '':\n",
        "    server_name = SERVER_IN_USE()\n",
        "  if os.path.exists(f'/content/drive/MyDrive/minecraft/{server_name}'):\n",
        "    LOG('Deleting files...')\n",
        "    serverconfig = load(open(SERVERCONFIG))\n",
        "    if server_name == '': server_name = serverconfig['server_in_use']\n",
        "    subprocess.run(['rm', '-rf', f\"/content/drive/My Drive/minecraft/{serverconfig['server_in_use']}\"])\n",
        "    serverconfig['server_list'].remove(server_name)\n",
        "    if serverconfig['server_in_use'] == server_name:\n",
        "      try: serverconfig['server_in_use']= serverconfig['server_list'][0]\n",
        "      except: serverconfig['server_in_use'] = ''\n",
        "    dump(serverconfig, open(SERVERCONFIG, 'w'))\n",
        "    LOG('Completed')\n",
        "  else:\n",
        "    EROR(\"You haven't installed yet.\")\n",
        "    EXIT()\n",
        "\n",
        "def Run_server(server_name):\n",
        "  if server_name == '':\n",
        "    server_name = SERVER_IN_USE()\n",
        "  if os.path.exists(f'/content/drive/MyDrive/minecraft/{server_name}'):\n",
        "    LOG('Server:  ' + server_name)\n",
        "    %cd \"/content/drive/My Drive/minecraft/{server_name}\"\n",
        "    colabconfig = COLABCONFIG_LOAD(server_name)\n",
        "    INSTALL_JAVA(colabconfig['server_version'])\n",
        "    JAVA_CHECK()\n",
        "    LOG(\"\\nFiles:\")\n",
        "    !ls\n",
        "    EULA(server_name)\n",
        "    RUNCOMMAND(server_name, colabconfig)\n",
        "    LOG(\"Finalized server.\")\n",
        "    EXIT_NGROK()\n",
        "  else:\n",
        "    EROR(\"Please make a minecraft server.\")\n",
        "    EXIT()\n",
        "\n",
        "#---------------------------------------------------------- Ulitites --------------------------------------------------------------------------#\n",
        "def Choose_server():\n",
        "  serverconfig = load(open(SERVERCONFIG))\n",
        "  if serverconfig['server_list'] == []: LOG(' Creating your minecraft server before choosing')\n",
        "  else:\n",
        "    LOG('\\nAivailable server:\\n')\n",
        "    for i in range(len(serverconfig['server_list'])):\n",
        "      LOG(serverconfig['server_list'][i])\n",
        "    serverconfig['server_in_use'] = input('\\nYour minecraft server: ')\n",
        "    dump(serverconfig, open(SERVERCONFIG, 'w'))\n",
        "    LOG('Completed')\n",
        "\n",
        "def Custom_props(server_name, server_icon, motd):\n",
        "  if server_name == '': server_name = SERVER_IN_USE()\n",
        "  if server_icon != '':\n",
        "    DOWNLOAD_FILE(\n",
        "        url = server_icon,\n",
        "        path = f'content/drive/MyDrive/minecraft/{server_name}/server-icon.png',\n",
        "        file_name = None\n",
        "    )\n",
        "  if motd != '':\n",
        "    server_properties = Properties()\n",
        "    with open(f\"/content/drive/My Drive/minecraft/{server_name}/server.properties\", \"rb\") as f:\n",
        "        server_properties.load(f, \"utf-8\")\n",
        "    server_properties[\"motd\"] = motd\n",
        "    with open(f\"/content/drive/My Drive/minecraft/{server_name}/server.properties\", \"wb\") as f:\n",
        "        server_properties.store(f, encoding=\"utf-8\")\n",
        "  LOG('Completed')\n",
        "\n",
        "def Serverproperties(server_name, Slots, Gamemode, Difficulty, Cracked, PVP, Command_block, Fly, Animals,\n",
        "                     Monsters, Villagers, Nether, Force_gamemode, Spawn_protection):\n",
        "  if server_name == '':\n",
        "    server_name = SERVER_IN_USE()\n",
        "  if server_name != '':\n",
        "    LOG(\"Configuring\")\n",
        "    server_properties = Properties()\n",
        "    with open(f\"/content/drive/My Drive/minecraft/{server_name}/server.properties\", \"rb\") as f:\n",
        "        server_properties.load(f, \"utf-8\")\n",
        "    server_properties[\"max-players\"] = str(Slots)\n",
        "    server_properties[\"gamemode\"] = Gamemode\n",
        "    server_properties[\"difficulty\"] = Difficulty\n",
        "    server_properties[\"online-mode\"] = str(Cracked).lower()\n",
        "    dict_ = {'pvp': PVP, 'enable-command-block': Command_block, 'allow-flight': Fly, 'spawn-animals': Animals, 'spawn-monsters': Monsters,\n",
        "            'spawn-npcs': Villagers, 'allow-nether': Nether, 'force-gamemode': Force_gamemode, 'spawn-protection': Spawn_protection}\n",
        "    for keys, value in dict.items():\n",
        "      server_properties[keys] = str(value).lower()\n",
        "    with open(f\"/content/drive/My Drive/minecraft/{server_name}/server.properties\", \"wb\") as f:\n",
        "        server_properties.store(f, encoding=\"utf-8\")\n",
        "    LOG('Completed')\n",
        "  else:\n",
        "    EROR(\"Have you created your server file?\")\n",
        "    EXIT()\n",
        "\n",
        "def Software(server_name, server_type, version = ''):\n",
        "  if server_name == '':\n",
        "    server_name = SERVER_IN_USE()\n",
        "  if server_name != '':\n",
        "    colabconfig = COLABCONFIG_LOAD(server_name)\n",
        "    Delete_server(server_name)\n",
        "    Install_server(proxy= colabconfig['proxy'] , server_name= server_name, type_ = server_type)\n",
        "  else:\n",
        "    EROR(\"You haven't isntall yet!\")\n",
        "    EXIT()\n",
        "\n",
        "def Latest_log():\n",
        "  server_folder = SERVER_IN_USE()\n",
        "  with open(f'/content/drive/My Drive/minecraft/{server_folder}/logs/latest.log', 'r') as f:\n",
        "      print(f.read())\n",
        "\n",
        "#--------------------------------------------------- SERVER - PLUGINS/MODS SEARCH ----------------------------------------------------------#\n",
        "def FACETS(categories, versions, project_types):\n",
        "  cats = \"\"; proj_types = \"\"; vers = \"\";\n",
        "  if categories != 'none' :\n",
        "    for category in categories:\n",
        "        cat = f'[\"categories:{category}\"]'; cats += cat;\n",
        "        if len(categories) > 1 and category != categories[len(categories) - 1]: cats += \",\"\n",
        "  if versions != 'none' :\n",
        "    for version in versions:\n",
        "      ver = f'[\"versions:{version}\"]'; vers += ver;\n",
        "      if len(versions) > 1 and version != versions[len(versions) - 1]: vers += \",\";\n",
        "  if project_types != 'none' :\n",
        "    for project_type in project_types:\n",
        "        proType= f'[\"project_type:{project_type}\"]'; proj_types += proType;\n",
        "        if len(project_types) and project_type != project_types[len(project_types) - 1]:\n",
        "          proj_types += \",\"\n",
        "  facets = \"[\"\n",
        "  if cats != \"\": facets += cats\n",
        "  if vers != \"\":\n",
        "    if cats != \"\": facets += \",\"\n",
        "    facets += vers\n",
        "  if proj_types != \"\":\n",
        "    if cats != \"\" or vers != \"\": facets += \",\"\n",
        "    facets += proj_types\n",
        "  facets += \"]\"; facetsInURL = \"\";\n",
        "  if facets != \"[]\": facetsInURL = f'&facets={facets}'\n",
        "  return facetsInURL\n",
        "\n",
        "def SEARCH(server_name, search_name, categories, versions, project_types, index):\n",
        "  colabconfig = COLABCONFIG_LOAD(server_name)\n",
        "  if categories == 'default': categories = [colabconfig['server_type']]\n",
        "  elif categories == 'none': categories = []\n",
        "  else: categories = [categories]\n",
        "  if versions == 'default':\n",
        "    versions = [colabconfig[\"server_version\"]]\n",
        "  elif versions == 'none': versions = []\n",
        "  else: versions = [versions]\n",
        "  project_types = []\n",
        "  if 'fabric' in categories or 'forge' in categories :\n",
        "    pro_ty = 'mods'; project_types = [pro_ty];\n",
        "  if 'paper' in categories or 'purpur' in categories:\n",
        "    pro_ty = 'plugins'; project_types = [pro_ty];\n",
        "  facetsInURL = FACETS(categories, versions, project_types)\n",
        "  LOG(f'\\nSearching for the related of {search_name} ...')\n",
        "  rJSON = requests.get(f'https://api.modrinth.com/v2/search?query={search_name}{facetsInURL}&index={index}').json()\n",
        "  project = {}\n",
        "  for hit in rJSON['hits']:\n",
        "    if hit['server_side'] == 'optional' or hit['server_side'] == 'required':\n",
        "      LOG(hit['slug'] + \" : \" + hit['description'])\n",
        "      project[hit['slug']] = hit['project_id']\n",
        "  if project == {}:\n",
        "    EROR(f\"\\nSomething went wrong. Please check your search_name. If nothing is wrong => modrinth may not support this {search_name} project.\")\n",
        "    EXIT()\n",
        "  else:\n",
        "    LOG('\\nType the project_name you want to download')\n",
        "    project_names= input('Project_name: ')\n",
        "    while project_names not in project:\n",
        "      LOG('\\nWrong project_names please type aigain. If you want to quit, type \"None\".')\n",
        "      LOG(f'\\nLast searched projects: {project}')\n",
        "      project_names= input('\\nProject_name: ')\n",
        "      if project_names == 'None': break\n",
        "\n",
        "  return project_names\n",
        "#--------------------------------------------------- Ulities ----------------------------------------------------------#\n",
        "def Install_plugins_mods(server_name, search_name, categories, versions, project_types, index):\n",
        "  if server_name == '':\n",
        "    server_name = SERVER_IN_USE()\n",
        "  project_names = SEARCH(server_name, search_name, categories, versions, project_types, index)\n",
        "  if project_names != 'None':\n",
        "        project_id = project[project_names]\n",
        "        rJSON = requests.get(f'https://api.modrinth.com/v2/project/{project_id}/version').json()\n",
        "        check = False\n",
        "        for data in range(len(rJSON)):\n",
        "            result = rJSON[data]\n",
        "            for game_version in range(len(result['game_versions'])):\n",
        "                if versions[0] == result['game_versions'][game_version]:\n",
        "                    files = result['files'][0]\n",
        "                    DOWNLOAD_FILE(url= files['url'],\n",
        "                                  path = f'/content/drive/My Drive/minecraft/{server_name}/{pro_ty}/' + files['filename'],\n",
        "                                  file_name= files['filename'])\n",
        "                    check = True\n",
        "                    break\n",
        "            if check == True:\n",
        "                print('\\nCompleted.')\n",
        "                break\n",
        "        if check == False:\n",
        "          EROR(\"\\nCan't find the exact file. It seems that modrinth doesn't support \" + versions[0] + f\" version for {project_names}\")\n",
        "  else:\n",
        "    LOG('Stopping...')\n",
        "\n",
        "'''   FILE MANAGEMENT BROWSER -- DIDN'T NEEDED\n",
        "def Filebrowser(file_name):\n",
        "  if file_name == '': file_name = SERVER_IN_USE()\n",
        "  path = '/content/drive/MyDrive/minecraft'\n",
        "  colabconfig = COLABCONFIG_LOAD(file_name)\n",
        "  urls = CONNECT_NGROK(file_name, 8005, \"http\", colabconfig[\"proxy\"])\n",
        "  LOG('Filebrowser account  (default): admin')\n",
        "  LOG('Filebrowser password (default): admin')\n",
        "  LOG(\"Filebrowser link:\")\n",
        "  print(urls)\n",
        "  !filebrowser -r \"$path\" -p 8005\n",
        "'''\n",
        "\n",
        "def Backup_files(file_name = '', file_backup = '', server_name= '', server_backup = '', path = '/content/drive/MyDrive/minecraft'):\n",
        "  if server_name == '':\n",
        "    server_name = SERVER_IN_USE()\n",
        "  if file_name != '':\n",
        "    path1 = path + f'/{server_name}' + file_name\n",
        "  else: path1 = path + server_name\n",
        "  if file_backup == '': path2 = path + f'/{server_name}' + file_backup\n",
        "  else: path2 = path + f'/{server_name}' + file_name + '(back-up)'\n",
        "  if server_backup == '' and file_backup != '': path2 = path + server_name + '(back-up)'\n",
        "  else: path2 = path + server_backup\n",
        "  LOG(subprocess.Popen(['cp', '-a', path1, path2]))\n",
        "\n",
        "#------------------------------------------------------------------------------------------------------------------------------------#\n",
        "SETUP()\n",
        "LOG('Completed')"
      ]
    },
    {
      "cell_type": "markdown",
      "metadata": {
        "id": "isidTr9WdOpz"
      },
      "source": [
        "---"
      ]
    },
    {
      "cell_type": "markdown",
      "metadata": {
        "id": "Ei7_3ODcUdm_"
      },
      "source": [
        "# 🔥 **Starting**\n",
        "---\n"
      ]
    },
    {
      "cell_type": "code",
      "execution_count": null,
      "metadata": {
        "id": "2SXjmXvf4vn0"
      },
      "outputs": [],
      "source": [
        "# @markdown ####**Choose your server file name**\n",
        "server_name = \"minecraft\" # @param {type:\"string\"}\n",
        "# @markdown ####You can either use [ngrok](https://ngrok.com/), [playit.gg](https://playit.gg/) or [cloudflare's argo](https://www.cloudflare.com/). Ngrok is easy to setup and doesn't requires anything to be installed by the clients but it can often be quite unreliable. Argo doesn't have such limitations but requires a bit more work. Playit has provided limited versions but with a static domain.\n",
        "# Standard turnel service ( Aivailable turnel: ngrok, argo, playit)\n",
        "turnel_service = 'ngrok' #@param ['ngrok', 'argo', 'playit']\n",
        "if turnel_service == 'ngrok':\n",
        "  authtoken = ''\n",
        "  region = ''\n",
        "  LOG('Get your authtoken from https://dashboard.ngrok.com/get-started/your-authtoken')\n",
        "  authtoken = input('Your authtoken: ') # '2b4aAThNSdouorMoFZTy55kGHLZ_5AUszgVXmfh8f45kSLr2N'\n",
        "  LOG('Available Regions: ')\n",
        "  LOG(' ap - Asia/Pacific (Singapore)')\n",
        "  LOG(' au - Australia (Sydney)')\n",
        "  LOG(' eu - Europa (Frankfurt - Germany)')\n",
        "  LOG(' in - India (Mumbai)')\n",
        "  LOG(' jp - Japan (Tokyo)')\n",
        "  LOG(' sa - America (São Paulo - Brazil)')\n",
        "  LOG(' us - United States (Ohio)')\n",
        "  region = input('Region: ')\n",
        "Install_server(\n",
        "  #------------------------------#\n",
        "    proxy = {\n",
        "        \"turnel_service\" : turnel_service,\n",
        "        'authtoken'   : authtoken,\n",
        "        \"region\"  : region\n",
        "    },\n",
        "  #------------------------------#\n",
        "    server_name = server_name, # your server name\n",
        "\n",
        "    type_ = \"vanilla\", # server type\n",
        "    version = 'vanilla - latest_version'\n",
        "  #------------------------------#\n",
        ")"
      ]
    },
    {
      "cell_type": "code",
      "execution_count": null,
      "metadata": {
        "id": "uRz1WuKUk5zw"
      },
      "outputs": [],
      "source": [
        "# @markdown ####**Choosing minecraft server**\n",
        "\n",
        "Choose_server()"
      ]
    },
    {
      "cell_type": "code",
      "execution_count": null,
      "metadata": {
        "id": "ElfueDQX0Bex"
      },
      "outputs": [],
      "source": [
        "# @markdown ####**Delete server**\n",
        "\n",
        "Delete_server(\n",
        "    #------------------------------#\n",
        "    # @markdown Leaving emty string   -> set to default files\n",
        "    server_name = '' # @param {type: \"string\"}\n",
        "    #------------------------------#\n",
        ")"
      ]
    },
    {
      "cell_type": "markdown",
      "metadata": {
        "id": "jii1sC2uUWvk"
      },
      "source": [
        "---"
      ]
    },
    {
      "cell_type": "markdown",
      "metadata": {
        "id": "JMgdsuPcUuEv"
      },
      "source": [
        "# ▶ **or** 🛑  **Console**\n",
        "---"
      ]
    },
    {
      "cell_type": "markdown",
      "source": [
        "- **[Ngrok](https://ngrok.com/)**:\n",
        "  + Follow the prompts.\n",
        "  + The IP will change whenever you restart the server.\n",
        "- **[Cloudflare's argo](https://www.cloudflare.com/)** :\n",
        "  + After running this cell, your free tunnel has started! Visit it <tunnel_address> would be logged in the notebook console.\n",
        "  + Download Cloudflared client on all the client machines.\n",
        "  + Now on your local machine, launch the binary with ./cloudflared-linux-amd64 access tcp --hostname <tunnel_address> --url 127.0.0.1:25565\n",
        "  + Finally, connect to 127.0.0.1:25565 from your minecraft client.\n",
        "- **[PlayIt](https://playit.gg/)**: follow the prompts.\n",
        "\n",
        "\n",
        "\n"
      ],
      "metadata": {
        "id": "UcdngLtp2_h4"
      }
    },
    {
      "cell_type": "code",
      "execution_count": null,
      "metadata": {
        "id": "lqtMoYg0dUmu"
      },
      "outputs": [],
      "source": [
        "Run_server(\n",
        "    #------------------------------#\n",
        "    # @markdown ####Leaving emty string   -> set to default files\n",
        "    server_name = '' # @param {type: 'string'}\n",
        "    #------------------------------#\n",
        ")"
      ]
    },
    {
      "cell_type": "markdown",
      "metadata": {
        "id": "Y0BWJEDQOH7J"
      },
      "source": [
        "---"
      ]
    },
    {
      "cell_type": "markdown",
      "metadata": {
        "id": "HD4lBUT9RcS-"
      },
      "source": [
        "# ⚓ **Options**\n",
        "---\n"
      ]
    },
    {
      "cell_type": "code",
      "execution_count": null,
      "metadata": {
        "id": "XO3WG0U6qPi2"
      },
      "outputs": [],
      "source": [
        "# @title **Server_custom**\n",
        "\n",
        "# @markdown ####Server icon: **upload image** and get **direct link** from [[ Image ]](https://postimages.org/)\n",
        "Server_icon = '' # @param {type: 'string'}\n",
        "# @markdown ####[[ MOTD create **tool** ]](https://mctools.org/motd-creator)\n",
        "MOTD = '' # @param {type: 'string'}\n",
        "\n",
        "\n",
        "Custom_props(\n",
        "    #------------------------------#\n",
        "    server_name = '', # Customized server file\n",
        "    #------------------------------#\n",
        "    server_icon = Server_icon,\n",
        "    motd = MOTD\n",
        "    #------------------------------#\n",
        "\n",
        ")"
      ]
    },
    {
      "cell_type": "code",
      "execution_count": null,
      "metadata": {
        "id": "pCJfyMhXRnJS"
      },
      "outputs": [],
      "source": [
        "# @title **Server properties:**\n",
        "\n",
        "Slots = 20 # @param {type:\"slider\", min:0, max:100, step:1}\n",
        "Gamemode = \"survival\" # @param [\"survival\", \"creative\", \"adventure\", \"spectator\"]\n",
        "Difficulty = \"easy\" # @param [\"peaceful\", \"easy\", \"normal\", \"hard\"]\n",
        "Cracked = True # @param {type:\"boolean\"}\n",
        "PVP = True # @param {type:\"boolean\"}\n",
        "Command_block = True # @param {type:\"boolean\"}\n",
        "Fly = True # @param {type:\"boolean\"}\n",
        "Animals = True # @param {type:\"boolean\"}\n",
        "Monsters = True # @param {type:\"boolean\"}\n",
        "Villagers = True # @param {type:\"boolean\"}\n",
        "Nether = True # @param {type:\"boolean\"}\n",
        "Force_gamemode = False # @param {type:\"boolean\"}\n",
        "Spawn_protection = 16 # @param {type:\"slider\", min:0, max:100, step:1}\n",
        "\n",
        "\n",
        "\n",
        "Serverproperties(\n",
        "    server_name = '',\n",
        "\n",
        "    Slots,\n",
        "    Gamemode,\n",
        "    Difficulty,\n",
        "    Cracked,\n",
        "    PVP,\n",
        "    Command_block,\n",
        "    Fly,\n",
        "    Animals,\n",
        "    Monsters,\n",
        "    Villagers,\n",
        "    Nether,\n",
        "    Force_gamemode,\n",
        "    Spawn_protection\n",
        "\n",
        ")"
      ]
    },
    {
      "cell_type": "markdown",
      "metadata": {
        "id": "Ilo0sMqq90On"
      },
      "source": [
        "---"
      ]
    },
    {
      "cell_type": "markdown",
      "metadata": {
        "id": "hfUxmQTgUF8Z"
      },
      "source": [
        "# 📎  **Log**\n",
        "---\n"
      ]
    },
    {
      "cell_type": "code",
      "execution_count": null,
      "metadata": {
        "id": "6MYwvnY_UNzS"
      },
      "outputs": [],
      "source": [
        "# @markdown **Shows latest log of your minecraft server**\n",
        "# Getting server_folder\n",
        "\n",
        "Latest_log()"
      ]
    },
    {
      "cell_type": "markdown",
      "metadata": {
        "id": "QBzBdOXfUK1a"
      },
      "source": [
        "---\n"
      ]
    },
    {
      "cell_type": "markdown",
      "metadata": {
        "id": "JkGq3KakW-Bc"
      },
      "source": [
        "# 📰  **Software**\n",
        "---\n",
        "Change the software (vanilla) to others platforms\n",
        "\n",
        "---"
      ]
    },
    {
      "cell_type": "markdown",
      "metadata": {
        "id": "G4CT_TwV9ZiM"
      },
      "source": [
        "\n",
        "+ Please checking whether your minecraft server is in Gdrive or not.\n"
      ]
    },
    {
      "cell_type": "code",
      "execution_count": null,
      "metadata": {
        "id": "Fy5-YjJMPV3S"
      },
      "outputs": [],
      "source": [
        "server_version = '' # Customizable version\n",
        "\n",
        "Software(\n",
        "\n",
        "    # Default server\n",
        "    server_name = '',\n",
        "\n",
        "    # Server_version\n",
        "    version = server_version,\n",
        "\n",
        "    # @markdown ####*Choosing server type*\n",
        "    server_type = \"fabric\" # @param [\"vanilla\", \"snapshot\", \"paper\", \"purpur\", \"forge\", \"fabric\", 'bungeecord', 'waterfall', 'velocity']\n",
        "\n",
        ")"
      ]
    },
    {
      "cell_type": "markdown",
      "metadata": {
        "id": "o8xY7ru09mE3"
      },
      "source": [
        "---"
      ]
    },
    {
      "cell_type": "markdown",
      "metadata": {
        "id": "QaNRBRuK8seq"
      },
      "source": [
        "# 🎈  **Plugins, mods**\n",
        "---\n"
      ]
    },
    {
      "cell_type": "markdown",
      "metadata": {
        "id": "aARoX0rQ1V5S"
      },
      "source": [
        "The code bellow will automatically download plugins, mods to your server folder. Changing the server_name variable to where you want to place plugin and mod.\n"
      ]
    },
    {
      "cell_type": "code",
      "execution_count": null,
      "metadata": {
        "id": "QvFvnjIRIU0c"
      },
      "outputs": [],
      "source": [
        "# @title **Download mods, plugins from [modrinth](https://modrinth.com/)**\n",
        "#@markdown ### **Your mod/plugin name**\n",
        "search_name = '' # @param {type: 'string'}\n",
        "# @markdown ###**Details:**\n",
        "# @markdown\n",
        "# @markdown #### (none -> don't search, default -> set up according to colabconfig file)\n",
        "categories = 'none'   #@param ['none', 'default', 'vanilla', 'fabric', 'forge', 'paper', 'purpur', 'bungeecord', 'velocity', 'waterfall']\n",
        "versions = \"default\" # @param [\"none\", \"default\"] {allow-input: true}\n",
        "project_types = 'none' # @param ['none', 'default', 'mod', 'plugin']\n",
        "index = 'relevance' #@param ['relevance', 'downloads', 'follows', 'newest', 'updated']\n",
        "\n",
        "Install_plugins_mods(\n",
        "    # Default server\n",
        "    server_name = '',\n",
        "    # The name of the project you're looking for\n",
        "    search_name = search_name,\n",
        "    # Further information\n",
        "    categories = categories\n",
        "    versions = versions,\n",
        "    project_types = project_types,\n",
        "    index = index\n",
        ")"
      ]
    },
    {
      "cell_type": "code",
      "source": [
        "# @title **Download modpack from [curseforge](https://www.curseforge.com/Minecraft) and [modrinth](https://modrinth.com/)**\n",
        "# @markdown ####Choose the place to download modpack\n",
        "software = 'Curseforge' # @param [\"Curseforge\", \"Modrinth\"]\n",
        "url_modpack = '' # Customized urlmodpack (just from curseforge or modpack)\n",
        "\n",
        "Install_modpack(\n",
        "    #------------------------------#\n",
        "    # Default server\n",
        "    server = '',\n",
        "    #------------------------------#\n",
        "    # Curseforge or Modrinth\n",
        "    software = software\n",
        "    # Custom modpack\n",
        "    url_modpack = url_modpack,\n",
        "    # @markdown ####Modpack search name\n",
        "    modpack_name = '' #@param {type: \"string\"}\n",
        "    #------------------------------#\n",
        ")\n"
      ],
      "metadata": {
        "id": "MG58tlZREE4v"
      },
      "execution_count": null,
      "outputs": []
    },
    {
      "cell_type": "markdown",
      "source": [
        "---"
      ],
      "metadata": {
        "id": "9Moa0zB_aJhR"
      }
    },
    {
      "cell_type": "markdown",
      "source": [
        "# **📁 File Backup**\n",
        "---\n"
      ],
      "metadata": {
        "id": "F7efc3oOqTVQ"
      }
    },
    {
      "cell_type": "code",
      "source": [
        "# @markdown Back up server or file?\n",
        "choice = 'server' # @param ['server', 'file']\n",
        "file_name = ''; file_backup = ''; server_name= ''; server_backup = ''\n",
        "if choice == 'server':\n",
        "  server_name = input('Server name: ')\n",
        "  server_backup = input('Back up server name: ')\n",
        "else:\n",
        "  server_name = input('Server name: ')\n",
        "  file_name = input('File name')\n",
        "  file_backup = input('File back up name: ')\n",
        "Backup_files(\n",
        "    #------------------------------#\n",
        "    file_name = file_name,\n",
        "    file_backup = file_backup,\n",
        "    server_name= server_name,\n",
        "    server_backup = server_backup,\n",
        "    path = '/content/drive/MyDrive/minecraft'\n",
        "    #------------------------------#\n",
        ")"
      ],
      "metadata": {
        "id": "5feHpc86boU2"
      },
      "execution_count": null,
      "outputs": []
    },
    {
      "cell_type": "markdown",
      "source": [
        "# **FAQ - Importance**\n",
        "- It is recommended that you keep the Google Colab tab open so that the server does not shut down, it is possible that every certain time it will ask you to solve a captcha.\n",
        "\n",
        "- Google Colab is not designed to create Minecraft servers, but it can be done. Google Colab promises to work for 12 hours straight, however it is possible that if there is no person reviewing the page or using the console, basically if the page detects inactivity the process will end. The performance is approximately 12 GB of RAM, together with a processor with a power of 2.2 GHz and 2 theards, this is better than many paid hostings, but it doesn't have support and doesn't promise to be open always\n",
        "- It is not advisable to fill it with as many as plugins, which is more limited to this server than its own processor, it is not very good, any hosting for 12 USD can offer a higher quality server, if you are thinking of creating something for many users , it's much better.\n",
        "- If something does not work, try using a VPN like windscribe before opening an issue.\n",
        "- Switch between the three different tunnel providers and see which works best for you.\n",
        "- Make regular backups of your world."
      ],
      "metadata": {
        "id": "wTezKg1b4cpt"
      }
    }
  ],
  "metadata": {
    "colab": {
      "provenance": [],
      "include_colab_link": true
    },
    "kernelspec": {
      "display_name": "Python 3",
      "name": "python3"
    },
    "language_info": {
      "codemirror_mode": {
        "name": "ipython",
        "version": 3
      },
      "file_extension": ".py",
      "mimetype": "text/x-python",
      "name": "python",
      "nbconvert_exporter": "python",
      "pygments_lexer": "ipython3",
      "version": "3.12.1"
    }
  },
  "nbformat": 4,
  "nbformat_minor": 0
}